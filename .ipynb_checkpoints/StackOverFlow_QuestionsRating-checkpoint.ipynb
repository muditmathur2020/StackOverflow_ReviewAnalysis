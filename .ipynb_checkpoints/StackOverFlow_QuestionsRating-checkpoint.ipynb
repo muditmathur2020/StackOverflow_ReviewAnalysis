{
 "cells": [
  {
   "cell_type": "code",
   "execution_count": 1,
   "metadata": {},
   "outputs": [],
   "source": [
    "import pandas as pd\n",
    "import numpy as np\n",
    "import matplotlib.pyplot as plt\n",
    "import seaborn as sns\n",
    "%matplotlib inline"
   ]
  },
  {
   "cell_type": "markdown",
   "metadata": {},
   "source": [
    "## Load and Check Data"
   ]
  },
  {
   "cell_type": "code",
   "execution_count": 2,
   "metadata": {},
   "outputs": [],
   "source": [
    "train=pd.read_csv(\"train.csv\")"
   ]
  },
  {
   "cell_type": "code",
   "execution_count": 3,
   "metadata": {},
   "outputs": [
    {
     "data": {
      "text/html": [
       "<div>\n",
       "<style scoped>\n",
       "    .dataframe tbody tr th:only-of-type {\n",
       "        vertical-align: middle;\n",
       "    }\n",
       "\n",
       "    .dataframe tbody tr th {\n",
       "        vertical-align: top;\n",
       "    }\n",
       "\n",
       "    .dataframe thead th {\n",
       "        text-align: right;\n",
       "    }\n",
       "</style>\n",
       "<table border=\"1\" class=\"dataframe\">\n",
       "  <thead>\n",
       "    <tr style=\"text-align: right;\">\n",
       "      <th></th>\n",
       "      <th>Id</th>\n",
       "      <th>Title</th>\n",
       "      <th>Body</th>\n",
       "      <th>Tags</th>\n",
       "      <th>CreationDate</th>\n",
       "      <th>Y</th>\n",
       "    </tr>\n",
       "  </thead>\n",
       "  <tbody>\n",
       "    <tr>\n",
       "      <th>0</th>\n",
       "      <td>34552656</td>\n",
       "      <td>Java: Repeat Task Every Random Seconds</td>\n",
       "      <td>&lt;p&gt;I'm already familiar with repeating tasks e...</td>\n",
       "      <td>&lt;java&gt;&lt;repeat&gt;</td>\n",
       "      <td>2016-01-01 00:21:59</td>\n",
       "      <td>LQ_CLOSE</td>\n",
       "    </tr>\n",
       "    <tr>\n",
       "      <th>1</th>\n",
       "      <td>34553034</td>\n",
       "      <td>Why are Java Optionals immutable?</td>\n",
       "      <td>&lt;p&gt;I'd like to understand why Java 8 Optionals...</td>\n",
       "      <td>&lt;java&gt;&lt;optional&gt;</td>\n",
       "      <td>2016-01-01 02:03:20</td>\n",
       "      <td>HQ</td>\n",
       "    </tr>\n",
       "    <tr>\n",
       "      <th>2</th>\n",
       "      <td>34553174</td>\n",
       "      <td>Text Overlay Image with Darkened Opacity React...</td>\n",
       "      <td>&lt;p&gt;I am attempting to overlay a title over an ...</td>\n",
       "      <td>&lt;javascript&gt;&lt;image&gt;&lt;overlay&gt;&lt;react-native&gt;&lt;opa...</td>\n",
       "      <td>2016-01-01 02:48:24</td>\n",
       "      <td>HQ</td>\n",
       "    </tr>\n",
       "    <tr>\n",
       "      <th>3</th>\n",
       "      <td>34553318</td>\n",
       "      <td>Why ternary operator in swift is so picky?</td>\n",
       "      <td>&lt;p&gt;The question is very simple, but I just cou...</td>\n",
       "      <td>&lt;swift&gt;&lt;operators&gt;&lt;whitespace&gt;&lt;ternary-operato...</td>\n",
       "      <td>2016-01-01 03:30:17</td>\n",
       "      <td>HQ</td>\n",
       "    </tr>\n",
       "    <tr>\n",
       "      <th>4</th>\n",
       "      <td>34553755</td>\n",
       "      <td>hide/show fab with scale animation</td>\n",
       "      <td>&lt;p&gt;I'm using custom floatingactionmenu. I need...</td>\n",
       "      <td>&lt;android&gt;&lt;material-design&gt;&lt;floating-action-but...</td>\n",
       "      <td>2016-01-01 05:21:48</td>\n",
       "      <td>HQ</td>\n",
       "    </tr>\n",
       "    <tr>\n",
       "      <th>...</th>\n",
       "      <td>...</td>\n",
       "      <td>...</td>\n",
       "      <td>...</td>\n",
       "      <td>...</td>\n",
       "      <td>...</td>\n",
       "      <td>...</td>\n",
       "    </tr>\n",
       "    <tr>\n",
       "      <th>44995</th>\n",
       "      <td>60461435</td>\n",
       "      <td>Convert List&lt;String&gt; to string C# - asp.net - ...</td>\n",
       "      <td>&lt;p&gt;I am new to this and I am asking for help t...</td>\n",
       "      <td>&lt;c#&gt;&lt;asp.net&gt;&lt;sql-server&gt;</td>\n",
       "      <td>2020-02-29 02:22:18</td>\n",
       "      <td>LQ_CLOSE</td>\n",
       "    </tr>\n",
       "    <tr>\n",
       "      <th>44996</th>\n",
       "      <td>60461754</td>\n",
       "      <td>Does Python execute code from the top or botto...</td>\n",
       "      <td>&lt;p&gt;I am working on learning Python and was won...</td>\n",
       "      <td>&lt;python&gt;</td>\n",
       "      <td>2020-02-29 03:33:59</td>\n",
       "      <td>LQ_CLOSE</td>\n",
       "    </tr>\n",
       "    <tr>\n",
       "      <th>44997</th>\n",
       "      <td>60462001</td>\n",
       "      <td>how to change payment date in Azure?</td>\n",
       "      <td>&lt;p&gt;It looks like it costs 8 days per month in ...</td>\n",
       "      <td>&lt;azure&gt;&lt;billing&gt;</td>\n",
       "      <td>2020-02-29 04:34:16</td>\n",
       "      <td>LQ_CLOSE</td>\n",
       "    </tr>\n",
       "    <tr>\n",
       "      <th>44998</th>\n",
       "      <td>60465318</td>\n",
       "      <td>how to implement fill in the blank in Swift</td>\n",
       "      <td>&lt;p&gt;\"I _____ any questions.\"&lt;/p&gt;\\n\\n&lt;p&gt;I want t...</td>\n",
       "      <td>&lt;ios&gt;&lt;swift&gt;</td>\n",
       "      <td>2020-02-29 12:50:43</td>\n",
       "      <td>LQ_CLOSE</td>\n",
       "    </tr>\n",
       "    <tr>\n",
       "      <th>44999</th>\n",
       "      <td>60468018</td>\n",
       "      <td>How can I make a c# application outside of vis...</td>\n",
       "      <td>&lt;p&gt;I'm very new to programming and I'm teachin...</td>\n",
       "      <td>&lt;c#&gt;&lt;visual-studio&gt;</td>\n",
       "      <td>2020-02-29 17:55:56</td>\n",
       "      <td>LQ_CLOSE</td>\n",
       "    </tr>\n",
       "  </tbody>\n",
       "</table>\n",
       "<p>45000 rows × 6 columns</p>\n",
       "</div>"
      ],
      "text/plain": [
       "             Id                                              Title  \\\n",
       "0      34552656             Java: Repeat Task Every Random Seconds   \n",
       "1      34553034                  Why are Java Optionals immutable?   \n",
       "2      34553174  Text Overlay Image with Darkened Opacity React...   \n",
       "3      34553318         Why ternary operator in swift is so picky?   \n",
       "4      34553755                 hide/show fab with scale animation   \n",
       "...         ...                                                ...   \n",
       "44995  60461435  Convert List<String> to string C# - asp.net - ...   \n",
       "44996  60461754  Does Python execute code from the top or botto...   \n",
       "44997  60462001               how to change payment date in Azure?   \n",
       "44998  60465318        how to implement fill in the blank in Swift   \n",
       "44999  60468018  How can I make a c# application outside of vis...   \n",
       "\n",
       "                                                    Body  \\\n",
       "0      <p>I'm already familiar with repeating tasks e...   \n",
       "1      <p>I'd like to understand why Java 8 Optionals...   \n",
       "2      <p>I am attempting to overlay a title over an ...   \n",
       "3      <p>The question is very simple, but I just cou...   \n",
       "4      <p>I'm using custom floatingactionmenu. I need...   \n",
       "...                                                  ...   \n",
       "44995  <p>I am new to this and I am asking for help t...   \n",
       "44996  <p>I am working on learning Python and was won...   \n",
       "44997  <p>It looks like it costs 8 days per month in ...   \n",
       "44998  <p>\"I _____ any questions.\"</p>\\n\\n<p>I want t...   \n",
       "44999  <p>I'm very new to programming and I'm teachin...   \n",
       "\n",
       "                                                    Tags         CreationDate  \\\n",
       "0                                         <java><repeat>  2016-01-01 00:21:59   \n",
       "1                                       <java><optional>  2016-01-01 02:03:20   \n",
       "2      <javascript><image><overlay><react-native><opa...  2016-01-01 02:48:24   \n",
       "3      <swift><operators><whitespace><ternary-operato...  2016-01-01 03:30:17   \n",
       "4      <android><material-design><floating-action-but...  2016-01-01 05:21:48   \n",
       "...                                                  ...                  ...   \n",
       "44995                          <c#><asp.net><sql-server>  2020-02-29 02:22:18   \n",
       "44996                                           <python>  2020-02-29 03:33:59   \n",
       "44997                                   <azure><billing>  2020-02-29 04:34:16   \n",
       "44998                                       <ios><swift>  2020-02-29 12:50:43   \n",
       "44999                                <c#><visual-studio>  2020-02-29 17:55:56   \n",
       "\n",
       "              Y  \n",
       "0      LQ_CLOSE  \n",
       "1            HQ  \n",
       "2            HQ  \n",
       "3            HQ  \n",
       "4            HQ  \n",
       "...         ...  \n",
       "44995  LQ_CLOSE  \n",
       "44996  LQ_CLOSE  \n",
       "44997  LQ_CLOSE  \n",
       "44998  LQ_CLOSE  \n",
       "44999  LQ_CLOSE  \n",
       "\n",
       "[45000 rows x 6 columns]"
      ]
     },
     "execution_count": 3,
     "metadata": {},
     "output_type": "execute_result"
    }
   ],
   "source": [
    "train"
   ]
  },
  {
   "cell_type": "markdown",
   "metadata": {},
   "source": [
    "#  Variable Descriptions"
   ]
  },
  {
   "cell_type": "raw",
   "metadata": {},
   "source": [
    "Id: Unique number of each questions\n",
    "Title: The title of questions\n",
    "Body: The questions\n",
    "CreationDate: Which time question created\n",
    "Y: Quality class\n",
    "HQ: High-quality posts with a total of 30+ score and without a single edit. (2)\n",
    "LQ_EDIT: Low-quality posts with a negative score, and multiple community edits. However, they still remain open after those changes. (1)\n",
    "LQ_CLOSE: Low-quality posts that were closed by the community without a single edit. (0)"
   ]
  },
  {
   "cell_type": "code",
   "execution_count": 4,
   "metadata": {},
   "outputs": [
    {
     "data": {
      "text/plain": [
       "LQ_CLOSE    15000\n",
       "HQ          15000\n",
       "LQ_EDIT     15000\n",
       "Name: Y, dtype: int64"
      ]
     },
     "execution_count": 4,
     "metadata": {},
     "output_type": "execute_result"
    }
   ],
   "source": [
    "train['Y'].value_counts()"
   ]
  },
  {
   "cell_type": "code",
   "execution_count": 5,
   "metadata": {},
   "outputs": [
    {
     "name": "stdout",
     "output_type": "stream",
     "text": [
      "<class 'pandas.core.frame.DataFrame'>\n",
      "RangeIndex: 45000 entries, 0 to 44999\n",
      "Data columns (total 6 columns):\n",
      " #   Column        Non-Null Count  Dtype \n",
      "---  ------        --------------  ----- \n",
      " 0   Id            45000 non-null  int64 \n",
      " 1   Title         45000 non-null  object\n",
      " 2   Body          45000 non-null  object\n",
      " 3   Tags          45000 non-null  object\n",
      " 4   CreationDate  45000 non-null  object\n",
      " 5   Y             45000 non-null  object\n",
      "dtypes: int64(1), object(5)\n",
      "memory usage: 2.1+ MB\n"
     ]
    }
   ],
   "source": [
    "train.info()"
   ]
  },
  {
   "cell_type": "markdown",
   "metadata": {},
   "source": [
    "# Feature Selection/Engineering"
   ]
  },
  {
   "cell_type": "code",
   "execution_count": 6,
   "metadata": {},
   "outputs": [],
   "source": [
    "train=train[['Body','Y']]"
   ]
  },
  {
   "cell_type": "code",
   "execution_count": 7,
   "metadata": {},
   "outputs": [
    {
     "data": {
      "text/html": [
       "<div>\n",
       "<style scoped>\n",
       "    .dataframe tbody tr th:only-of-type {\n",
       "        vertical-align: middle;\n",
       "    }\n",
       "\n",
       "    .dataframe tbody tr th {\n",
       "        vertical-align: top;\n",
       "    }\n",
       "\n",
       "    .dataframe thead th {\n",
       "        text-align: right;\n",
       "    }\n",
       "</style>\n",
       "<table border=\"1\" class=\"dataframe\">\n",
       "  <thead>\n",
       "    <tr style=\"text-align: right;\">\n",
       "      <th></th>\n",
       "      <th>Body</th>\n",
       "      <th>Y</th>\n",
       "    </tr>\n",
       "  </thead>\n",
       "  <tbody>\n",
       "    <tr>\n",
       "      <th>0</th>\n",
       "      <td>&lt;p&gt;I'm already familiar with repeating tasks e...</td>\n",
       "      <td>LQ_CLOSE</td>\n",
       "    </tr>\n",
       "    <tr>\n",
       "      <th>1</th>\n",
       "      <td>&lt;p&gt;I'd like to understand why Java 8 Optionals...</td>\n",
       "      <td>HQ</td>\n",
       "    </tr>\n",
       "    <tr>\n",
       "      <th>2</th>\n",
       "      <td>&lt;p&gt;I am attempting to overlay a title over an ...</td>\n",
       "      <td>HQ</td>\n",
       "    </tr>\n",
       "    <tr>\n",
       "      <th>3</th>\n",
       "      <td>&lt;p&gt;The question is very simple, but I just cou...</td>\n",
       "      <td>HQ</td>\n",
       "    </tr>\n",
       "    <tr>\n",
       "      <th>4</th>\n",
       "      <td>&lt;p&gt;I'm using custom floatingactionmenu. I need...</td>\n",
       "      <td>HQ</td>\n",
       "    </tr>\n",
       "    <tr>\n",
       "      <th>...</th>\n",
       "      <td>...</td>\n",
       "      <td>...</td>\n",
       "    </tr>\n",
       "    <tr>\n",
       "      <th>44995</th>\n",
       "      <td>&lt;p&gt;I am new to this and I am asking for help t...</td>\n",
       "      <td>LQ_CLOSE</td>\n",
       "    </tr>\n",
       "    <tr>\n",
       "      <th>44996</th>\n",
       "      <td>&lt;p&gt;I am working on learning Python and was won...</td>\n",
       "      <td>LQ_CLOSE</td>\n",
       "    </tr>\n",
       "    <tr>\n",
       "      <th>44997</th>\n",
       "      <td>&lt;p&gt;It looks like it costs 8 days per month in ...</td>\n",
       "      <td>LQ_CLOSE</td>\n",
       "    </tr>\n",
       "    <tr>\n",
       "      <th>44998</th>\n",
       "      <td>&lt;p&gt;\"I _____ any questions.\"&lt;/p&gt;\\n\\n&lt;p&gt;I want t...</td>\n",
       "      <td>LQ_CLOSE</td>\n",
       "    </tr>\n",
       "    <tr>\n",
       "      <th>44999</th>\n",
       "      <td>&lt;p&gt;I'm very new to programming and I'm teachin...</td>\n",
       "      <td>LQ_CLOSE</td>\n",
       "    </tr>\n",
       "  </tbody>\n",
       "</table>\n",
       "<p>45000 rows × 2 columns</p>\n",
       "</div>"
      ],
      "text/plain": [
       "                                                    Body         Y\n",
       "0      <p>I'm already familiar with repeating tasks e...  LQ_CLOSE\n",
       "1      <p>I'd like to understand why Java 8 Optionals...        HQ\n",
       "2      <p>I am attempting to overlay a title over an ...        HQ\n",
       "3      <p>The question is very simple, but I just cou...        HQ\n",
       "4      <p>I'm using custom floatingactionmenu. I need...        HQ\n",
       "...                                                  ...       ...\n",
       "44995  <p>I am new to this and I am asking for help t...  LQ_CLOSE\n",
       "44996  <p>I am working on learning Python and was won...  LQ_CLOSE\n",
       "44997  <p>It looks like it costs 8 days per month in ...  LQ_CLOSE\n",
       "44998  <p>\"I _____ any questions.\"</p>\\n\\n<p>I want t...  LQ_CLOSE\n",
       "44999  <p>I'm very new to programming and I'm teachin...  LQ_CLOSE\n",
       "\n",
       "[45000 rows x 2 columns]"
      ]
     },
     "execution_count": 7,
     "metadata": {},
     "output_type": "execute_result"
    }
   ],
   "source": [
    "train"
   ]
  },
  {
   "cell_type": "markdown",
   "metadata": {},
   "source": [
    "# Removing \\<p> and Punctuations from body of the text"
   ]
  },
  {
   "cell_type": "code",
   "execution_count": 8,
   "metadata": {},
   "outputs": [
    {
     "name": "stderr",
     "output_type": "stream",
     "text": [
      "<ipython-input-8-81fbe7c0cdc1>:1: SettingWithCopyWarning: \n",
      "A value is trying to be set on a copy of a slice from a DataFrame.\n",
      "Try using .loc[row_indexer,col_indexer] = value instead\n",
      "\n",
      "See the caveats in the documentation: https://pandas.pydata.org/pandas-docs/stable/user_guide/indexing.html#returning-a-view-versus-a-copy\n",
      "  train['Body']=train['Body'].str.replace('<p>','')\n"
     ]
    }
   ],
   "source": [
    "train['Body']=train['Body'].str.replace('<p>','')"
   ]
  },
  {
   "cell_type": "code",
   "execution_count": 9,
   "metadata": {},
   "outputs": [
    {
     "data": {
      "text/plain": [
       "0        I'm already familiar with repeating tasks ever...\n",
       "1        I'd like to understand why Java 8 Optionals we...\n",
       "2        I am attempting to overlay a title over an ima...\n",
       "3        The question is very simple, but I just could ...\n",
       "4        I'm using custom floatingactionmenu. I need to...\n",
       "                               ...                        \n",
       "44995    I am new to this and I am asking for help to c...\n",
       "44996    I am working on learning Python and was wonder...\n",
       "44997    It looks like it costs 8 days per month in Azu...\n",
       "44998    \"I _____ any questions.\"</p>\\n\\nI want to impl...\n",
       "44999    I'm very new to programming and I'm teaching m...\n",
       "Name: Body, Length: 45000, dtype: object"
      ]
     },
     "execution_count": 9,
     "metadata": {},
     "output_type": "execute_result"
    }
   ],
   "source": [
    "train['Body']"
   ]
  },
  {
   "cell_type": "code",
   "execution_count": 10,
   "metadata": {},
   "outputs": [
    {
     "data": {
      "text/plain": [
       "0        I'm already familiar with repeating tasks ever...\n",
       "1        I'd like to understand why Java 8 Optionals we...\n",
       "2        I am attempting to overlay a title over an ima...\n",
       "3        The question is very simple, but I just could ...\n",
       "4        I'm using custom floatingactionmenu. I need to...\n",
       "                               ...                        \n",
       "44995    I am new to this and I am asking for help to c...\n",
       "44996    I am working on learning Python and was wonder...\n",
       "44997    It looks like it costs 8 days per month in Azu...\n",
       "44998    \"I _____ any questions.\"</p>\\n\\nI want to impl...\n",
       "44999    I'm very new to programming and I'm teaching m...\n",
       "Name: Body, Length: 45000, dtype: object"
      ]
     },
     "execution_count": 10,
     "metadata": {},
     "output_type": "execute_result"
    }
   ],
   "source": [
    "import string\n",
    "def remove_punctuations(text):\n",
    "    for punctuation in string.punctuation:\n",
    "        text=text.lower().replace(punctuation,'')\n",
    "        return text\n",
    "train['Body'].apply(remove_punctuations)\n",
    "train['Body']"
   ]
  },
  {
   "cell_type": "markdown",
   "metadata": {},
   "source": [
    "# Converting Target Variable into Numerical Type"
   ]
  },
  {
   "cell_type": "code",
   "execution_count": 11,
   "metadata": {},
   "outputs": [],
   "source": [
    "temp = {'LQ_CLOSE': 0,'LQ_EDIT': 1,'HQ': 2} "
   ]
  },
  {
   "cell_type": "code",
   "execution_count": 12,
   "metadata": {},
   "outputs": [
    {
     "name": "stderr",
     "output_type": "stream",
     "text": [
      "C:\\Users\\Mudit\\anaconda3\\lib\\site-packages\\pandas\\core\\generic.py:5168: SettingWithCopyWarning: \n",
      "A value is trying to be set on a copy of a slice from a DataFrame.\n",
      "Try using .loc[row_indexer,col_indexer] = value instead\n",
      "\n",
      "See the caveats in the documentation: https://pandas.pydata.org/pandas-docs/stable/user_guide/indexing.html#returning-a-view-versus-a-copy\n",
      "  self[name] = value\n"
     ]
    }
   ],
   "source": [
    "train.Y = [temp[item] for item in train.Y] "
   ]
  },
  {
   "cell_type": "code",
   "execution_count": 13,
   "metadata": {},
   "outputs": [],
   "source": [
    "train.Y=train.Y.astype('int')"
   ]
  },
  {
   "cell_type": "code",
   "execution_count": 14,
   "metadata": {},
   "outputs": [
    {
     "data": {
      "text/plain": [
       "2    15000\n",
       "1    15000\n",
       "0    15000\n",
       "Name: Y, dtype: int64"
      ]
     },
     "execution_count": 14,
     "metadata": {},
     "output_type": "execute_result"
    }
   ],
   "source": [
    "train.Y.value_counts()"
   ]
  },
  {
   "cell_type": "code",
   "execution_count": 15,
   "metadata": {},
   "outputs": [
    {
     "name": "stderr",
     "output_type": "stream",
     "text": [
      "C:\\Users\\Mudit\\anaconda3\\lib\\site-packages\\seaborn\\_decorators.py:36: FutureWarning: Pass the following variable as a keyword arg: x. From version 0.12, the only valid positional argument will be `data`, and passing other arguments without an explicit keyword will result in an error or misinterpretation.\n",
      "  warnings.warn(\n"
     ]
    },
    {
     "data": {
      "text/plain": [
       "<AxesSubplot:xlabel='Y', ylabel='count'>"
      ]
     },
     "execution_count": 15,
     "metadata": {},
     "output_type": "execute_result"
    },
    {
     "data": {
      "image/png": "[encoded data removed]",
      "text/plain": [
       "<Figure size 432x288 with 1 Axes>"
      ]
     },
     "metadata": {
      "needs_background": "light"
     },
     "output_type": "display_data"
    }
   ],
   "source": [
    "sns.countplot(train['Y'])"
   ]
  },
  {
   "cell_type": "markdown",
   "metadata": {},
   "source": [
    "# Importing Stopwords and removing them from body"
   ]
  },
  {
   "cell_type": "code",
   "execution_count": 16,
   "metadata": {},
   "outputs": [
    {
     "name": "stderr",
     "output_type": "stream",
     "text": [
      "[nltk_data] Downloading package stopwords to\n",
      "[nltk_data]     C:\\Users\\Mudit\\AppData\\Roaming\\nltk_data...\n",
      "[nltk_data]   Package stopwords is already up-to-date!\n",
      "[nltk_data] Downloading package punkt to\n",
      "[nltk_data]     C:\\Users\\Mudit\\AppData\\Roaming\\nltk_data...\n",
      "[nltk_data]   Unzipping tokenizers\\punkt.zip.\n",
      "[nltk_data] Downloading package wordnet to\n",
      "[nltk_data]     C:\\Users\\Mudit\\AppData\\Roaming\\nltk_data...\n",
      "[nltk_data]   Unzipping corpora\\wordnet.zip.\n"
     ]
    }
   ],
   "source": [
    "import nltk\n",
    "from nltk.corpus import stopwords\n",
    "import re\n",
    "import nltk as nlp\n",
    "nltk.download('stopwords') \n",
    "nltk.download('punkt')\n",
    "nltk.download('wordnet') \n",
    "\n",
    "lemma = nlp.WordNetLemmatizer()"
   ]
  },
  {
   "cell_type": "code",
   "execution_count": 17,
   "metadata": {},
   "outputs": [],
   "source": [
    "text_list = []\n",
    "for description in train.Body:\n",
    "    \n",
    "    description = re.sub('[^a-zA-Z]',' ',description)\n",
    "    description = nltk.word_tokenize(description)\n",
    "    description = ' '.join(description)\n",
    "    text_list.append(description)"
   ]
  },
  {
   "cell_type": "code",
   "execution_count": 18,
   "metadata": {},
   "outputs": [
    {
     "data": {
      "text/plain": [
       "45000"
      ]
     },
     "execution_count": 18,
     "metadata": {},
     "output_type": "execute_result"
    }
   ],
   "source": [
    "len(text_list)"
   ]
  },
  {
   "cell_type": "markdown",
   "metadata": {},
   "source": [
    "# Count-Vectorizing the text data"
   ]
  },
  {
   "cell_type": "code",
   "execution_count": 19,
   "metadata": {},
   "outputs": [],
   "source": [
    "from sklearn.feature_extraction.text import CountVectorizer\n",
    "max_features = 300\n",
    "\n",
    "count_vectorizer = CountVectorizer(max_features=max_features,stop_words = \"english\")\n",
    "\n",
    "space_matrix = count_vectorizer.fit_transform(text_list).toarray()  "
   ]
  },
  {
   "cell_type": "code",
   "execution_count": 20,
   "metadata": {},
   "outputs": [
    {
     "data": {
      "text/plain": [
       "(45000, 300)"
      ]
     },
     "execution_count": 20,
     "metadata": {},
     "output_type": "execute_result"
    }
   ],
   "source": [
    "space_matrix.shape"
   ]
  },
  {
   "cell_type": "markdown",
   "metadata": {},
   "source": [
    "# Train Test Split"
   ]
  },
  {
   "cell_type": "code",
   "execution_count": 21,
   "metadata": {},
   "outputs": [
    {
     "name": "stdout",
     "output_type": "stream",
     "text": [
      "X_train shape (40500, 300)\n",
      "X_test shape (4500, 300)\n",
      "y_train shape (40500,)\n",
      "y_test shape (4500,)\n"
     ]
    }
   ],
   "source": [
    "y = train.iloc[:,1].values   \n",
    "x = space_matrix\n",
    "\n",
    "from sklearn.model_selection import train_test_split\n",
    "X_train, X_test, y_train, y_test = train_test_split(x,y, test_size = 0.1, random_state = 42)\n",
    "print('X_train shape', X_train.shape)\n",
    "print('X_test shape', X_test.shape)\n",
    "print('y_train shape', y_train.shape)\n",
    "print('y_test shape', y_test.shape)"
   ]
  },
  {
   "cell_type": "markdown",
   "metadata": {},
   "source": [
    "# Importing the Models"
   ]
  },
  {
   "cell_type": "code",
   "execution_count": 22,
   "metadata": {},
   "outputs": [],
   "source": [
    "from sklearn.linear_model import  LogisticRegression\n",
    "from sklearn.ensemble import RandomForestRegressor , RandomForestClassifier\n",
    "from sklearn.tree import DecisionTreeClassifier\n",
    "from sklearn.neighbors import KNeighborsClassifier\n",
    "from sklearn.metrics import classification_report,confusion_matrix"
   ]
  },
  {
   "cell_type": "markdown",
   "metadata": {},
   "source": [
    "# Logistic Regression"
   ]
  },
  {
   "cell_type": "code",
   "execution_count": 23,
   "metadata": {},
   "outputs": [
    {
     "name": "stdout",
     "output_type": "stream",
     "text": [
      "[[1021  233  207]\n",
      " [ 129 1368   34]\n",
      " [ 309   79 1120]]\n",
      "\n",
      "\n",
      "              precision    recall  f1-score   support\n",
      "\n",
      "           0       0.70      0.70      0.70      1461\n",
      "           1       0.81      0.89      0.85      1531\n",
      "           2       0.82      0.74      0.78      1508\n",
      "\n",
      "    accuracy                           0.78      4500\n",
      "   macro avg       0.78      0.78      0.78      4500\n",
      "weighted avg       0.78      0.78      0.78      4500\n",
      "\n"
     ]
    },
    {
     "name": "stderr",
     "output_type": "stream",
     "text": [
      "C:\\Users\\Mudit\\anaconda3\\lib\\site-packages\\sklearn\\linear_model\\_logistic.py:762: ConvergenceWarning: lbfgs failed to converge (status=1):\n",
      "STOP: TOTAL NO. of ITERATIONS REACHED LIMIT.\n",
      "\n",
      "Increase the number of iterations (max_iter) or scale the data as shown in:\n",
      "    https://scikit-learn.org/stable/modules/preprocessing.html\n",
      "Please also refer to the documentation for alternative solver options:\n",
      "    https://scikit-learn.org/stable/modules/linear_model.html#logistic-regression\n",
      "  n_iter_i = _check_optimize_result(\n"
     ]
    }
   ],
   "source": [
    "lr=LogisticRegression()\n",
    "lr.fit(X_train,y_train)\n",
    "predlr=lr.predict(X_test)\n",
    "print(confusion_matrix(y_test,predlr))\n",
    "print(\"\\n\")\n",
    "print(classification_report(y_test,predlr))"
   ]
  },
  {
   "cell_type": "markdown",
   "metadata": {},
   "source": [
    "# Random Forest"
   ]
  },
  {
   "cell_type": "code",
   "execution_count": 24,
   "metadata": {},
   "outputs": [
    {
     "name": "stdout",
     "output_type": "stream",
     "text": [
      "[[1030  202  229]\n",
      " [ 134 1367   30]\n",
      " [ 250   70 1188]]\n",
      "\n",
      "\n",
      "              precision    recall  f1-score   support\n",
      "\n",
      "           0       0.73      0.70      0.72      1461\n",
      "           1       0.83      0.89      0.86      1531\n",
      "           2       0.82      0.79      0.80      1508\n",
      "\n",
      "    accuracy                           0.80      4500\n",
      "   macro avg       0.79      0.80      0.79      4500\n",
      "weighted avg       0.80      0.80      0.80      4500\n",
      "\n"
     ]
    }
   ],
   "source": [
    "rf=RandomForestClassifier()\n",
    "rf.fit(X_train,y_train)\n",
    "predrf=rf.predict(X_test)\n",
    "print(confusion_matrix(y_test,predrf))\n",
    "print(\"\\n\")\n",
    "print(classification_report(y_test,predrf))"
   ]
  },
  {
   "cell_type": "markdown",
   "metadata": {},
   "source": [
    "# KNN"
   ]
  },
  {
   "cell_type": "code",
   "execution_count": 25,
   "metadata": {},
   "outputs": [
    {
     "name": "stdout",
     "output_type": "stream",
     "text": [
      "[[1029  197  235]\n",
      " [ 406 1083   42]\n",
      " [ 558   95  855]]\n",
      "\n",
      "\n",
      "              precision    recall  f1-score   support\n",
      "\n",
      "           0       0.52      0.70      0.60      1461\n",
      "           1       0.79      0.71      0.75      1531\n",
      "           2       0.76      0.57      0.65      1508\n",
      "\n",
      "    accuracy                           0.66      4500\n",
      "   macro avg       0.69      0.66      0.66      4500\n",
      "weighted avg       0.69      0.66      0.66      4500\n",
      "\n"
     ]
    }
   ],
   "source": [
    "knn=KNeighborsClassifier(n_neighbors=5)\n",
    "knn.fit(X_train,y_train)\n",
    "predknn=knn.predict(X_test)\n",
    "print(confusion_matrix(y_test,predknn))\n",
    "print(\"\\n\")\n",
    "print(classification_report(y_test,predknn))"
   ]
  },
  {
   "cell_type": "markdown",
   "metadata": {},
   "source": [
    "# Decision Tree"
   ]
  },
  {
   "cell_type": "code",
   "execution_count": 26,
   "metadata": {},
   "outputs": [
    {
     "name": "stdout",
     "output_type": "stream",
     "text": [
      "[[ 920  214  327]\n",
      " [ 230 1205   96]\n",
      " [ 342   90 1076]]\n",
      "\n",
      "\n",
      "              precision    recall  f1-score   support\n",
      "\n",
      "           0       0.62      0.63      0.62      1461\n",
      "           1       0.80      0.79      0.79      1531\n",
      "           2       0.72      0.71      0.72      1508\n",
      "\n",
      "    accuracy                           0.71      4500\n",
      "   macro avg       0.71      0.71      0.71      4500\n",
      "weighted avg       0.71      0.71      0.71      4500\n",
      "\n"
     ]
    }
   ],
   "source": [
    "dt=DecisionTreeClassifier()\n",
    "dt.fit(X_train,y_train)\n",
    "preddt=dt.predict(X_test)\n",
    "print(confusion_matrix(y_test,preddt))\n",
    "print(\"\\n\")\n",
    "print(classification_report(y_test,preddt))"
   ]
  },
  {
   "cell_type": "markdown",
   "metadata": {},
   "source": [
    "# Graph for accuracy of different ML Models"
   ]
  },
  {
   "cell_type": "code",
   "execution_count": 27,
   "metadata": {},
   "outputs": [],
   "source": [
    "ML_results = []\n",
    "from sklearn.metrics import f1_score\n",
    "ML_results.append(f1_score(y_test,predlr,average='macro'))\n",
    "ML_results.append(f1_score(y_test,predrf,average='macro'))\n",
    "ML_results.append(f1_score(y_test,predknn,average='macro'))\n",
    "ML_results.append(f1_score(y_test,preddt,average='macro'))"
   ]
  },
  {
   "cell_type": "code",
   "execution_count": 28,
   "metadata": {},
   "outputs": [],
   "source": [
    "labels=['LogisticRegression','RandomForestClassifier','KNeighborsClassifier','DecisionTreeClassifier']"
   ]
  },
  {
   "cell_type": "code",
   "execution_count": 29,
   "metadata": {},
   "outputs": [],
   "source": [
    "plt.style.use('seaborn')"
   ]
  },
  {
   "cell_type": "code",
   "execution_count": 30,
   "metadata": {},
   "outputs": [
    {
     "data": {
      "text/plain": [
       "Text(0.5, 1.0, 'Model Accuracy')"
      ]
     },
     "execution_count": 30,
     "metadata": {},
     "output_type": "execute_result"
    },
    {
     "data": {
      "image/png": "[encoded data removed]",
      "text/plain": [
       "<Figure size 720x504 with 1 Axes>"
      ]
     },
     "metadata": {},
     "output_type": "display_data"
    }
   ],
   "source": [
    "fig, ax = plt.subplots(figsize=(10, 7))\n",
    "ax.bar(labels,ML_results,label='Accuracy',)\n",
    "ax.set_xlabel('Machine Learning Models')\n",
    "ax.set_title('Model Accuracy')"
   ]
  }
 ],
 "metadata": {
  "kernelspec": {
   "display_name": "Python 3",
   "language": "python",
   "name": "python3"
  },
  "language_info": {
   "codemirror_mode": {
    "name": "ipython",
    "version": 3
   },
   "file_extension": ".py",
   "mimetype": "text/x-python",
   "name": "python",
   "nbconvert_exporter": "python",
   "pygments_lexer": "ipython3",
   "version": "3.8.5"
  }
 },
 "nbformat": 4,
 "nbformat_minor": 5
}
